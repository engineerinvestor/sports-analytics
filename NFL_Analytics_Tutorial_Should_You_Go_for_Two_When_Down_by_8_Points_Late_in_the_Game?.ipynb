{
  "nbformat": 4,
  "nbformat_minor": 0,
  "metadata": {
    "colab": {
      "provenance": [],
      "authorship_tag": "ABX9TyNRUyGO6ISg5Qu5jgVUZFg4",
      "include_colab_link": true
    },
    "kernelspec": {
      "name": "python3",
      "display_name": "Python 3"
    },
    "language_info": {
      "name": "python"
    }
  },
  "cells": [
    {
      "cell_type": "markdown",
      "metadata": {
        "id": "view-in-github",
        "colab_type": "text"
      },
      "source": [
        "<a href=\"https://colab.research.google.com/github/engineerinvestor/sports-analytics/blob/main/NFL_Analytics_Tutorial_Should_You_Go_for_Two_When_Down_by_8_Points_Late_in_the_Game%3F.ipynb\" target=\"_parent\"><img src=\"https://colab.research.google.com/assets/colab-badge.svg\" alt=\"Open In Colab\"/></a>"
      ]
    },
    {
      "cell_type": "markdown",
      "source": [
        "# NFL Analytics Tutorial: Should You Go for Two When Down by 8 Points Late in the Game?\n",
        "\n",
        "Name: Engineer Investor [@egr_investor](https://twitter.com/egr_investor)\n",
        "\n",
        "Date: 11/03/2024\n",
        "\n",
        "## Introduction\n",
        "\n",
        "In this tutorial, we'll explore a critical decision in NFL games: whether a team down by 8 points after scoring a touchdown with 90 seconds remaining should attempt a two-point conversion or kick the extra point. We'll use Python to model the probabilities associated with each strategy and determine which approach maximizes the team's chances of winning.\n",
        "\n",
        "---\n",
        "\n",
        "## Key Assumptions\n",
        "\n",
        "Before diving into the analysis, let's establish some key probabilities based on NFL statistics:\n",
        "\n",
        "- **Extra Point Success Rate $( p_{\\text{EP}} ) $** : 99% or 0.99\n",
        "- **Two-Point Conversion Success Rate $( p_{\\text{2PC}} )$** : 50% or 0.50\n",
        "- **Chance of Winning in Overtime $( p_{\\text{OT}} )$** : 50% or 0.50\n",
        "- **Probability of Scoring Another Touchdown $( p_{\\text{TD}} )$** : We'll vary this from 0.1 to 1.0 to see how it affects the outcomes.\n",
        "\n",
        "---\n",
        "\n",
        "## Import Necessary Libraries"
      ],
      "metadata": {
        "id": "SlryQunV4Gj5"
      }
    },
    {
      "cell_type": "code",
      "source": [
        "import numpy as np\n",
        "import matplotlib.pyplot as plt\n",
        "%matplotlib inline"
      ],
      "metadata": {
        "id": "TwvlkTx74JzX"
      },
      "execution_count": 2,
      "outputs": []
    },
    {
      "cell_type": "markdown",
      "source": [
        "---\n",
        "\n",
        "## Define Key Probabilities"
      ],
      "metadata": {
        "id": "MREOnr5p4NB8"
      }
    },
    {
      "cell_type": "code",
      "source": [
        "# Set probabilities\n",
        "p_EP = 0.99     # Extra point success rate\n",
        "p_2PC = 0.50    # Two-point conversion success rate\n",
        "p_OT = 0.50     # Chance of winning in overtime"
      ],
      "metadata": {
        "id": "E5Bfm2Co4QMP"
      },
      "execution_count": 3,
      "outputs": []
    },
    {
      "cell_type": "markdown",
      "source": [
        "\n",
        "---\n",
        "\n",
        "## Strategy 1: Go for Two After the First Touchdown\n",
        "\n",
        "### Scenario 1: First Two-Point Conversion Succeeds\n",
        "\n",
        "- **Probability**: $( p_{\\text{2PC}} )$\n",
        "- **Outcome**: Team is now down by 6 points.\n",
        "- **Next Steps**:\n",
        "  - Score another touchdown $( p_{\\text{TD}} )$.\n",
        "  - Kick the extra point to win $( p_{\\text{EP}} )$.\n",
        "  - If the extra point fails, the game goes to overtime.\n",
        "\n",
        "### Scenario 2: First Two-Point Conversion Fails\n",
        "\n",
        "- **Probability**: $( 1 - p_{\\text{2PC}} )$\n",
        "- **Outcome**: Team remains down by 8 points.\n",
        "- **Next Steps**:\n",
        "  - Score another touchdown $( p_{\\text{TD}} )$.\n",
        "  - Attempt a second two-point conversion to tie the game.\n",
        "  - If successful, the game goes to overtime.\n",
        "\n",
        "---\n",
        "\n",
        "## Strategy 2: Kick Extra Point After the First Touchdown\n",
        "\n",
        "### Scenario 1: First Extra Point Succeeds\n",
        "\n",
        "- **Probability**: $( p_{\\text{EP}} )$\n",
        "- **Outcome**: Team is now down by 7 points.\n",
        "- **Next Steps**:\n",
        "  - Score another touchdown $( p_{\\text{TD}} )$.\n",
        "  - Kick the extra point to tie and go to overtime.\n",
        "\n",
        "### Scenario 2: First Extra Point Fails\n",
        "\n",
        "- **Probability**: $( 1 - p_{\\text{EP}} )$\n",
        "- **Outcome**: Team remains down by 8 points.\n",
        "- **Next Steps**:\n",
        "  - Score another touchdown $( p_{\\text{TD}} )$.\n",
        "  - Attempt a two-point conversion to tie the game.\n",
        "  - If successful, the game goes to overtime.\n",
        "\n",
        "---\n",
        "\n",
        "## Calculating Probabilities with Python\n",
        "\n",
        "We'll compute the total probability of winning under each strategy for varying values of $( p_{\\text{TD}} )$."
      ],
      "metadata": {
        "id": "RDPLw50c5gzi"
      }
    },
    {
      "cell_type": "code",
      "source": [
        "# Define a range of p_TD values from 0.1 to 1.0\n",
        "p_TD_values = np.linspace(0.1, 1.0, 10)\n",
        "\n",
        "# Initialize lists to store probabilities\n",
        "strategy1_wins = []\n",
        "strategy2_wins = []"
      ],
      "metadata": {
        "id": "oLictxP15j7B"
      },
      "execution_count": 4,
      "outputs": []
    },
    {
      "cell_type": "markdown",
      "source": [
        "---\n",
        "\n",
        "### Calculate Probabilities for Each Strategy"
      ],
      "metadata": {
        "id": "XKXDJ2ai5mMc"
      }
    },
    {
      "cell_type": "code",
      "source": [
        "for p_TD in p_TD_values:\n",
        "    # Strategy 1 Calculations\n",
        "    # Scenario 1: First two-point conversion succeeds\n",
        "    prob_win_S1 = p_2PC * p_TD * p_EP  # Win outright\n",
        "    prob_OT_S1 = p_2PC * p_TD * (1 - p_EP) * p_OT  # Overtime if extra point fails\n",
        "\n",
        "    # Scenario 2: First two-point conversion fails\n",
        "    prob_OT_S2 = (1 - p_2PC) * p_TD * p_2PC * p_OT  # Overtime if second two-point conversion succeeds\n",
        "\n",
        "    # Total probability of winning for Strategy 1\n",
        "    total_prob_win_S1 = prob_win_S1 + (prob_OT_S1 + prob_OT_S2)\n",
        "\n",
        "    # Strategy 2 Calculations\n",
        "    # Scenario 1: First extra point succeeds\n",
        "    prob_OT_S3 = p_EP * p_TD * p_EP * p_OT  # Overtime after second extra point\n",
        "\n",
        "    # Scenario 2: First extra point fails\n",
        "    prob_OT_S4 = (1 - p_EP) * p_TD * p_2PC * p_OT  # Overtime if two-point conversion succeeds\n",
        "\n",
        "    # Total probability of winning for Strategy 2\n",
        "    total_prob_win_S2 = prob_OT_S3 + prob_OT_S4\n",
        "\n",
        "    # Append to lists\n",
        "    strategy1_wins.append(total_prob_win_S1)\n",
        "    strategy2_wins.append(total_prob_win_S2)"
      ],
      "metadata": {
        "id": "S8MPm1Jy5rU-"
      },
      "execution_count": 5,
      "outputs": []
    },
    {
      "cell_type": "markdown",
      "source": [
        "\n",
        "\n",
        "---\n",
        "\n",
        "## Comparing the Strategies\n",
        "\n",
        "### Plotting the Probabilities"
      ],
      "metadata": {
        "id": "z6oT4etb5uSq"
      }
    },
    {
      "cell_type": "code",
      "source": [
        "plt.figure(figsize=(12, 6))\n",
        "plt.plot(p_TD_values, strategy1_wins, label='Strategy 1: Go for Two First', marker='o')\n",
        "plt.plot(p_TD_values, strategy2_wins, label='Strategy 2: Kick Extra Point First', marker='s')\n",
        "plt.xlabel('Probability of Scoring Second Touchdown ($p_{TD}$)')\n",
        "plt.ylabel('Total Probability of Winning')\n",
        "plt.title('Total Probability of Winning vs. $p_{TD}$')\n",
        "plt.legend()\n",
        "plt.xlim(0.0, 1.1)\n",
        "plt.ylim(0.0, 1.0)\n",
        "plt.grid(True)\n",
        "plt.show()"
      ],
      "metadata": {
        "colab": {
          "base_uri": "https://localhost:8080/",
          "height": 570
        },
        "id": "RpdAtyeY5xBp",
        "outputId": "e1c76707-ff05-4be7-daa9-ea27f16a7e1f"
      },
      "execution_count": 10,
      "outputs": [
        {
          "output_type": "display_data",
          "data": {
            "text/plain": [
              "<Figure size 1200x600 with 1 Axes>"
            ],
            "image/png": "[encoded data removed]"
          },
          "metadata": {}
        }
      ]
    },
    {
      "cell_type": "markdown",
      "source": [
        "### Interpretation of the Plot\n",
        "\n",
        "- **Strategy 1** consistently offers a higher probability of winning across all values of $( p_{\\text{TD}} )$.\n",
        "- The advantage of Strategy 1 becomes more significant as the probability of scoring the second touchdown increases.\n",
        "\n",
        "---\n",
        "\n",
        "## Detailed Analysis at $( p_{\\text{TD}} = 1.0 )$\n",
        "\n",
        "Assuming the team is certain to score the second touchdown:"
      ],
      "metadata": {
        "id": "WqXp50jJ55fZ"
      }
    },
    {
      "cell_type": "code",
      "source": [
        "p_TD = 1.0  # Certainty of scoring the second touchdown\n",
        "\n",
        "# Strategy 1\n",
        "prob_win_S1 = p_2PC * p_TD * p_EP  # Win outright\n",
        "prob_OT_S1 = p_2PC * p_TD * (1 - p_EP) * p_OT  # Overtime if extra point fails\n",
        "prob_OT_S2 = (1 - p_2PC) * p_TD * p_2PC * p_OT  # Overtime if second two-point conversion succeeds\n",
        "total_prob_win_S1 = prob_win_S1 + (prob_OT_S1 + prob_OT_S2)\n",
        "\n",
        "# Strategy 2\n",
        "prob_OT_S3 = p_EP * p_TD * p_EP * p_OT  # Overtime after second extra point\n",
        "prob_OT_S4 = (1 - p_EP) * p_TD * p_2PC * p_OT  # Overtime if two-point conversion succeeds\n",
        "total_prob_win_S2 = prob_OT_S3 + prob_OT_S4\n",
        "\n",
        "# Display Results\n",
        "print(\"Strategy 1: Go for Two After First Touchdown\")\n",
        "print(f\"Total Probability of Winning: {total_prob_win_S1:.4f}\")\n",
        "\n",
        "print(\"\\nStrategy 2: Kick Extra Point After First Touchdown\")\n",
        "print(f\"Total Probability of Winning: {total_prob_win_S2:.4f}\")"
      ],
      "metadata": {
        "colab": {
          "base_uri": "https://localhost:8080/"
        },
        "id": "xeobVAtY58s8",
        "outputId": "5075e75c-d059-49a2-e631-b9520e9612b1"
      },
      "execution_count": 7,
      "outputs": [
        {
          "output_type": "stream",
          "name": "stdout",
          "text": [
            "Strategy 1: Go for Two After First Touchdown\n",
            "Total Probability of Winning: 0.6225\n",
            "\n",
            "Strategy 2: Kick Extra Point After First Touchdown\n",
            "Total Probability of Winning: 0.4925\n"
          ]
        }
      ]
    },
    {
      "cell_type": "markdown",
      "source": [
        "\n",
        "\n",
        "**Output**:\n",
        "\n",
        "```\n",
        "Strategy 1: Go for Two After First Touchdown\n",
        "Total Probability of Winning: 0.6225\n",
        "\n",
        "Strategy 2: Kick Extra Point After First Touchdown\n",
        "Total Probability of Winning: 0.4925\n",
        "```\n",
        "\n",
        "---\n",
        "\n",
        "## Conclusion\n",
        "\n",
        "Our analysis demonstrates that **going for a two-point conversion after the first touchdown increases the team's overall probability of winning** compared to kicking the extra point.\n",
        "\n",
        "**Key Insights**:\n",
        "\n",
        "- **Strategy 1** provides clarity on the required outcomes for the remainder of the game.\n",
        "- The team can adjust their gameplay based on the result of the first two-point conversion.\n",
        "- Even if the first two-point attempt fails, there's still a path to tie the game.\n",
        "\n",
        "---\n",
        "\n",
        "## Factors to Consider\n",
        "\n",
        "While the mathematical analysis favors Strategy 1, real-world considerations may affect the decision:\n",
        "\n",
        "- **Team's Two-Point Conversion Success Rate**: If a team has a higher or lower success rate than the league average, it may influence the strategy.\n",
        "- **Opposing Defense Strength**: The likelihood of successful conversions may be affected by the opponent's defensive capabilities.\n",
        "- **Game Context**: Player injuries, weather conditions, and momentum can impact decision-making.\n",
        "\n",
        "---\n",
        "\n",
        "## Further Exploration\n",
        "\n",
        "You can adjust the key probabilities to reflect different scenarios:\n",
        "\n",
        "- **Adjust $( p_{\\text{2PC}} )$** : Change the two-point conversion success rate to see its impact.\n",
        "- **Adjust $( p_{\\text{EP}} )$** : Although extra points are almost automatic, slight changes can be explored.\n",
        "- **Simulate Overtime Win Probability $( p_{\\text{OT}} )$** : If one team is stronger, the chance of winning in overtime may not be 50%.\n",
        "\n",
        "---\n",
        "\n",
        "## Conclusion\n",
        "\n",
        "In high-stakes situations, making data-driven decisions can significantly impact the outcome of the game. This analysis supports the strategy of going for two when down by 8 points late in the game to maximize the chances of winning.\n",
        "\n",
        "---\n",
        "\n",
        "## References\n",
        "\n",
        "- [NFL Two-Point Conversion Statistics](https://www.pro-football-reference.com/)\n",
        "- [Decision-Making in NFL Games](https://www.espn.com/nfl/story/_/id/21596764/the-math-going-two-point-conversions)\n",
        "\n",
        "---\n",
        "\n",
        "*This tutorial demonstrates how to apply probability theory and Python programming to real-world sports analytics, providing insights that can inform strategic decisions in NFL games.*"
      ],
      "metadata": {
        "id": "IKirwcgw3Ky3"
      }
    }
  ]
}